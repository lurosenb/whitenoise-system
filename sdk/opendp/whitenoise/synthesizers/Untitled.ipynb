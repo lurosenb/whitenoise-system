{
 "cells": [
  {
   "cell_type": "code",
   "execution_count": 10,
   "metadata": {},
   "outputs": [],
   "source": [
    "import numpy as np\n",
    "import pandas as pd"
   ]
  },
  {
   "cell_type": "code",
   "execution_count": 2,
   "metadata": {},
   "outputs": [],
   "source": [
    "def _generate_splits(self, n_dim, factor):\n",
    "    \"\"\"\n",
    "    If user specifies, do the work and figure out how to divide the dimensions\n",
    "    into even splits to speed up MWEM\n",
    "\n",
    "    Last split will contain leftovers <= sizeof(factor)\n",
    "\n",
    "    :param n_dim: Total # of dimensions\n",
    "    :type n_dim: int\n",
    "    :param factor: Desired size of the splits\n",
    "    :type factor: int\n",
    "    :return: Splits\n",
    "    :rtype: np.array(np.array(),...)\n",
    "    \"\"\"\n",
    "    # Columns indices\n",
    "    indices = np.arange(n_dim)\n",
    "    \n",
    "    # Split intelligently\n",
    "    fits = int((np.floor(len(indices) / factor)) * factor)\n",
    "    even_inds = indices[:fits].reshape((int(len(indices)/factor), factor))\n",
    "    s1 = even_inds.tolist()\n",
    "    if indices[fits:].size > 0: # != np.array([])\n",
    "        s1.append(indices[fits:])\n",
    "    s2 = [np.array(l) for l in s1]\n",
    "    return np.array(s2)\n",
    "\n"
   ]
  },
  {
   "cell_type": "code",
   "execution_count": 23,
   "metadata": {},
   "outputs": [],
   "source": [
    "from mwem import MWEMSynthesizer\n",
    "synth = MWEMSynthesizer(split_factor=2)\n",
    "\n",
    "df = pd.read_csv('cancer.csv')\n",
    "df = df.drop([\"clump\"], axis=1)\n",
    "nf = df.to_numpy().astype(int)\n",
    "synth.fit(nf)\n",
    "sample_size = nf.shape[0]\n",
    "synthetic = synth.sample(sample_size)"
   ]
  },
  {
   "cell_type": "code",
   "execution_count": 24,
   "metadata": {},
   "outputs": [
    {
     "name": "stdout",
     "output_type": "stream",
     "text": [
      "[0 0 4 5 1 1 0 0 1]\n"
     ]
    }
   ],
   "source": [
    "print(synthetic[0])"
   ]
  }
 ],
 "metadata": {
  "kernelspec": {
   "display_name": "Python 3",
   "language": "python",
   "name": "python3"
  },
  "language_info": {
   "codemirror_mode": {
    "name": "ipython",
    "version": 3
   },
   "file_extension": ".py",
   "mimetype": "text/x-python",
   "name": "python",
   "nbconvert_exporter": "python",
   "pygments_lexer": "ipython3",
   "version": "3.8.1"
  }
 },
 "nbformat": 4,
 "nbformat_minor": 4
}
