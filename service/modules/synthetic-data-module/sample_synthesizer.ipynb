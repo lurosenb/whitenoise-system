{
 "cells": [
  {
   "cell_type": "code",
   "execution_count": 1,
   "metadata": {},
   "outputs": [],
   "source": [
    "import numpy as np\n",
    "from sklearn.mixture import GaussianMixture\n",
    "\n",
    "from sdgym.constants import CONTINUOUS\n",
    "from sdgym.synthesizers.base import BaseSynthesizer\n",
    "from sdgym.synthesizers.utils import Transformer\n",
    "\n",
    "class SampleSynthesizer(BaseSynthesizer):\n",
    "    \"\"\"\n",
    "    Performs dumb perturbation\n",
    "    \"\"\"\n",
    "    def __init__(self):\n",
    "        self.div_param = 2\n",
    "\n",
    "    def fit(self, data, categorical_columns=tuple(), ordinal_columns=tuple()):\n",
    "        self.dtype = data.dtype\n",
    "        self.meta = Transformer.get_metadata(data, categorical_columns, ordinal_columns)\n",
    "        \n",
    "        self.models = []\n",
    "        for id_, info in enumerate(self.meta):\n",
    "            nomial = np.bincount(data[:, id_].astype('int'), minlength=info['size'])\n",
    "            nomial = nomial / np.sum(nomial)\n",
    "            self.models.append(nomial)\n",
    "\n",
    "    def sample(self, samples):\n",
    "        data = np.zeros([samples, len(self.meta)], self.dtype)\n",
    "        \n",
    "        for i, info in enumerate(self.meta):\n",
    "            size = len(self.models[i])\n",
    "            data[:, i] = np.random.choice(np.arange(size), samples, p=self.models[i])\n",
    "        return data"
   ]
  },
  {
   "cell_type": "code",
   "execution_count": 5,
   "metadata": {},
   "outputs": [
    {
     "data": {
      "text/plain": [
       "array([[32., 11., 21., 25.,  0.],\n",
       "       [17., 29.,  2., 15., 20.],\n",
       "       [17., 24.,  0., 35., 15.]])"
      ]
     },
     "execution_count": 5,
     "metadata": {},
     "output_type": "execute_result"
    }
   ],
   "source": [
    "data = load_data(\"iris\", .1)\n",
    "\n",
    "categorical_columns = []\n",
    "ordinal_columns = range(0,len(data))\n",
    "\n",
    "synthesizer = CTGANSynthesizer()\n",
    "synthesizer.fit(data, categorical_columns, ordinal_columns)\n",
    "sampled = synthesizer.sample(3)\n",
    "sampled"
   ]
  },
  {
   "cell_type": "code",
   "execution_count": 1,
   "metadata": {},
   "outputs": [
    {
     "name": "stdout",
     "output_type": "stream",
     "text": [
      "Iteration: 0\n",
      "Iteration: 1\n",
      "Iteration: 2\n",
      "Iteration: 3\n",
      "Iteration: 4\n",
      "Iteration: 5\n",
      "Iteration: 6\n",
      "Iteration: 7\n",
      "Iteration: 8\n",
      "Iteration: 9\n",
      "Iteration: 10\n",
      "Iteration: 11\n",
      "Iteration: 12\n",
      "Iteration: 13\n",
      "Iteration: 14\n",
      "Iteration: 15\n",
      "Iteration: 16\n",
      "Iteration: 17\n",
      "Iteration: 18\n",
      "Iteration: 19\n",
      "Iteration: 20\n",
      "Iteration: 21\n",
      "Iteration: 22\n",
      "Iteration: 23\n",
      "Iteration: 24\n",
      "Iteration: 25\n",
      "Iteration: 26\n",
      "Iteration: 27\n",
      "Iteration: 28\n",
      "Iteration: 29\n",
      "Iteration: 0\n",
      "Iteration: 1\n",
      "Iteration: 2\n",
      "Iteration: 3\n",
      "Iteration: 4\n",
      "Iteration: 5\n",
      "Iteration: 6\n",
      "Iteration: 7\n",
      "Iteration: 8\n",
      "Iteration: 9\n",
      "Iteration: 10\n",
      "Iteration: 11\n",
      "Iteration: 12\n",
      "Iteration: 13\n",
      "Iteration: 14\n",
      "Iteration: 15\n",
      "Iteration: 16\n",
      "Iteration: 17\n",
      "Iteration: 18\n",
      "Iteration: 19\n",
      "Iteration: 20\n",
      "Iteration: 21\n",
      "Iteration: 22\n",
      "Iteration: 23\n",
      "Iteration: 24\n",
      "Iteration: 25\n",
      "Iteration: 26\n",
      "Iteration: 27\n",
      "Iteration: 28\n",
      "Iteration: 29\n"
     ]
    }
   ],
   "source": [
    "from sdgym import benchmark\n",
    "from mwem.mwem import MWEMSynthesizer\n",
    "\n",
    "mwem_1 = MWEMSynthesizer()\n",
    "# PrivBNSynthesizer is DP\n",
    "\n",
    "scores_asia = benchmark(mwem_1.fit_sample, [\"asia\"], repeat=1)\n",
    "\n",
    "mwem_2 = MWEMSynthesizer()\n",
    "scores_grid = benchmark(mwem_2.fit_sample, [\"grid\"], repeat=1)"
   ]
  },
  {
   "cell_type": "code",
   "execution_count": 7,
   "metadata": {},
   "outputs": [
    {
     "data": {
      "text/html": [
       "<div>\n",
       "<style scoped>\n",
       "    .dataframe tbody tr th:only-of-type {\n",
       "        vertical-align: middle;\n",
       "    }\n",
       "\n",
       "    .dataframe tbody tr th {\n",
       "        vertical-align: top;\n",
       "    }\n",
       "\n",
       "    .dataframe thead th {\n",
       "        text-align: right;\n",
       "    }\n",
       "</style>\n",
       "<table border=\"1\" class=\"dataframe\">\n",
       "  <thead>\n",
       "    <tr style=\"text-align: right;\">\n",
       "      <th></th>\n",
       "      <th>name</th>\n",
       "      <th>syn_likelihood</th>\n",
       "      <th>test_likelihood</th>\n",
       "      <th>distance</th>\n",
       "      <th>dataset</th>\n",
       "      <th>iter</th>\n",
       "    </tr>\n",
       "  </thead>\n",
       "  <tbody>\n",
       "    <tr>\n",
       "      <th>0</th>\n",
       "      <td>Bayesian Likelihood</td>\n",
       "      <td>-3.823316</td>\n",
       "      <td>-2.489065</td>\n",
       "      <td>0.0</td>\n",
       "      <td>asia</td>\n",
       "      <td>0</td>\n",
       "    </tr>\n",
       "  </tbody>\n",
       "</table>\n",
       "</div>"
      ],
      "text/plain": [
       "                  name  syn_likelihood  test_likelihood  distance dataset  \\\n",
       "0  Bayesian Likelihood       -3.823316        -2.489065       0.0    asia   \n",
       "\n",
       "   iter  \n",
       "0     0  "
      ]
     },
     "execution_count": 7,
     "metadata": {},
     "output_type": "execute_result"
    }
   ],
   "source": [
    "scores_asia"
   ]
  },
  {
   "cell_type": "raw",
   "metadata": {},
   "source": [
    "scores_grid"
   ]
  }
 ],
 "metadata": {
  "kernelspec": {
   "display_name": "Python 3",
   "language": "python",
   "name": "python3"
  },
  "language_info": {
   "codemirror_mode": {
    "name": "ipython",
    "version": 3
   },
   "file_extension": ".py",
   "mimetype": "text/x-python",
   "name": "python",
   "nbconvert_exporter": "python",
   "pygments_lexer": "ipython3",
   "version": "3.8.1"
  }
 },
 "nbformat": 4,
 "nbformat_minor": 4
}
